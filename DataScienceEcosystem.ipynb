{
 "cells": [
  {
   "cell_type": "markdown",
   "id": "048c8c91-ab1d-48e8-bd04-f87db8d817c3",
   "metadata": {},
   "source": [
    "# Data Science Tools and Ecosystem"
   ]
  },
  {
   "cell_type": "markdown",
   "id": "64fda5a4-f20e-4389-931f-e0c5db73a2a9",
   "metadata": {},
   "source": [
    "In this notebook, Data Science Tools and Ecosystem are summarized."
   ]
  },
  {
   "cell_type": "markdown",
   "id": "86541810-cf60-4cc3-bccc-7763c7c012fb",
   "metadata": {},
   "source": [
    "## Objectives:\n",
    "- List popular languages for Data Science\n",
    "- Simple arithmetic expression\n",
    "- Minutes to hours conversion"
   ]
  },
  {
   "cell_type": "markdown",
   "id": "27496e31-c31e-4310-b1ef-d61a2b4f62df",
   "metadata": {},
   "source": [
    "Some of the popular languages that Data Scientists use are:\n",
    "1. Python\n",
    "2. R\n",
    "3. SQL"
   ]
  },
  {
   "cell_type": "markdown",
   "id": "3c55c974-5e29-4b29-9301-32ccf9f50d68",
   "metadata": {},
   "source": [
    "Some of the commonly used libraries used by Data Scientists include:\n",
    "1. Pandas\n",
    "2. NumPy\n",
    "3. Seaborn"
   ]
  },
  {
   "cell_type": "markdown",
   "id": "70152a92-9ad2-4d49-b48b-b3a911d37867",
   "metadata": {},
   "source": [
    "| Data Science Tools |\n",
    "|--------------------|\n",
    "| Jupyter Notebook |\n",
    "| RStudio |\n",
    "| Visual Studio Code |"
   ]
  },
  {
   "cell_type": "markdown",
   "id": "568f3366-8600-4105-a310-80bc9ca026d4",
   "metadata": {},
   "source": [
    "### Below are a few examples of evaluating arithmetic expressions in Python\n"
   ]
  },
  {
   "cell_type": "code",
   "execution_count": 1,
   "id": "d23973c9-428a-4ef2-9ab1-40ac58a9b526",
   "metadata": {},
   "outputs": [
    {
     "data": {
      "text/plain": [
       "17"
      ]
     },
     "execution_count": 1,
     "metadata": {},
     "output_type": "execute_result"
    }
   ],
   "source": [
    "#This a simple arithmetic expression to mutiply then add integers\n",
    "(3*4)+5"
   ]
  },
  {
   "cell_type": "code",
   "execution_count": 1,
   "id": "4f41506c-6adc-48e4-8fe2-5ac44d1a90d9",
   "metadata": {},
   "outputs": [
    {
     "data": {
      "text/plain": [
       "3"
      ]
     },
     "execution_count": 1,
     "metadata": {},
     "output_type": "execute_result"
    }
   ],
   "source": [
    "#This will convert 200 minutes to hours by diving by 60\n",
    "200//60"
   ]
  },
  {
   "cell_type": "markdown",
   "id": "9a14f1aa-22b1-40e3-9b3f-20b3f60bc9d7",
   "metadata": {},
   "source": [
    "## Author\n",
    "Naman Sharma"
   ]
  },
  {
   "cell_type": "code",
   "execution_count": null,
   "id": "bb67f726-e3d7-4acc-89fc-c1e4f43c323c",
   "metadata": {},
   "outputs": [],
   "source": []
  }
 ],
 "metadata": {
  "kernelspec": {
   "display_name": "Python 3 (ipykernel)",
   "language": "python",
   "name": "python3"
  },
  "language_info": {
   "codemirror_mode": {
    "name": "ipython",
    "version": 3
   },
   "file_extension": ".py",
   "mimetype": "text/x-python",
   "name": "python",
   "nbconvert_exporter": "python",
   "pygments_lexer": "ipython3",
   "version": "3.12.8"
  }
 },
 "nbformat": 4,
 "nbformat_minor": 5
}
